{
 "cells": [
  {
   "cell_type": "code",
   "execution_count": 1,
   "id": "4f438241",
   "metadata": {},
   "outputs": [],
   "source": [
    "import nltk "
   ]
  },
  {
   "cell_type": "code",
   "execution_count": 2,
   "id": "c17df4e6",
   "metadata": {},
   "outputs": [],
   "source": [
    "import pandas as pd"
   ]
  },
  {
   "cell_type": "code",
   "execution_count": 3,
   "id": "71ce032c",
   "metadata": {},
   "outputs": [],
   "source": [
    "fake = pd.read_csv(\"Fake.csv\")\n",
    "true = pd.read_csv(\"True.csv\")"
   ]
  },
  {
   "cell_type": "code",
   "execution_count": 4,
   "id": "56526ce8",
   "metadata": {},
   "outputs": [],
   "source": [
    "fake['value'] = 0\n",
    "true['value'] = 1"
   ]
  },
  {
   "cell_type": "code",
   "execution_count": 5,
   "id": "9aeac5c7",
   "metadata": {},
   "outputs": [],
   "source": [
    "data = pd.concat([fake,true],axis = 0)"
   ]
  },
  {
   "cell_type": "code",
   "execution_count": 6,
   "id": "77b08aec",
   "metadata": {},
   "outputs": [],
   "source": [
    "data = data.reset_index(drop = True)"
   ]
  },
  {
   "cell_type": "code",
   "execution_count": 7,
   "id": "d7f1fe55",
   "metadata": {},
   "outputs": [],
   "source": [
    "data = data.drop(['subject','title','date'],axis = 1)\n"
   ]
  },
  {
   "cell_type": "code",
   "execution_count": 8,
   "id": "c10e9222",
   "metadata": {},
   "outputs": [],
   "source": [
    "from nltk.tokenize import word_tokenize "
   ]
  },
  {
   "cell_type": "code",
   "execution_count": 9,
   "id": "964ab56d",
   "metadata": {},
   "outputs": [],
   "source": [
    "data['text'] = data['text'].apply(word_tokenize)"
   ]
  },
  {
   "cell_type": "code",
   "execution_count": 10,
   "id": "8888e1c8",
   "metadata": {},
   "outputs": [],
   "source": [
    "from nltk.stem.snowball import SnowballStemmer\n",
    "porter = SnowballStemmer(\"english\")"
   ]
  },
  {
   "cell_type": "code",
   "execution_count": 11,
   "id": "2a919f19",
   "metadata": {},
   "outputs": [],
   "source": [
    "def stemming(text):\n",
    "    return [porter.stem(word) for word in text]"
   ]
  },
  {
   "cell_type": "code",
   "execution_count": 12,
   "id": "aa5f9047",
   "metadata": {},
   "outputs": [],
   "source": [
    "data['text'] = data['text'].apply(stemming)"
   ]
  },
  {
   "cell_type": "code",
   "execution_count": 13,
   "id": "b0f1ed5b",
   "metadata": {},
   "outputs": [],
   "source": [
    "from nltk.corpus import stopwords"
   ]
  },
  {
   "cell_type": "code",
   "execution_count": 14,
   "id": "163a831d",
   "metadata": {},
   "outputs": [],
   "source": [
    "def stopping(t):\n",
    "    dt = [word for word in  t if len(word)>2]\n",
    "    return dt"
   ]
  },
  {
   "cell_type": "code",
   "execution_count": 15,
   "id": "ded5776a",
   "metadata": {},
   "outputs": [],
   "source": [
    "data['text'] = data['text'].apply(stopping) "
   ]
  },
  {
   "cell_type": "code",
   "execution_count": 16,
   "id": "8f56dab2",
   "metadata": {},
   "outputs": [],
   "source": [
    "data['text'] = data['text'].apply(' '.join)"
   ]
  },
  {
   "cell_type": "code",
   "execution_count": 17,
   "id": "148548d4",
   "metadata": {},
   "outputs": [],
   "source": [
    "from sklearn.model_selection import train_test_split\n",
    "X_train,X_test,y_train,y_test = train_test_split(data['text'],data['value'],test_size = 0.25)"
   ]
  },
  {
   "cell_type": "code",
   "execution_count": 18,
   "id": "1863e3ba",
   "metadata": {},
   "outputs": [],
   "source": [
    "from sklearn.feature_extraction.text import TfidfVectorizer\n",
    "my_tfidf = TfidfVectorizer(max_df = 0.7)\n",
    "tfidf_train = my_tfidf.fit_transform(X_train)\n",
    "tfidf_test = my_tfidf.transform(X_test)"
   ]
  },
  {
   "cell_type": "code",
   "execution_count": 19,
   "id": "04e006fc",
   "metadata": {},
   "outputs": [],
   "source": [
    "from sklearn.linear_model import LogisticRegression\n",
    "from sklearn.tree import DecisionTreeClassifier\n",
    "from sklearn.metrics import accuracy_score"
   ]
  },
  {
   "cell_type": "code",
   "execution_count": 20,
   "id": "6c24b44d",
   "metadata": {},
   "outputs": [
    {
     "name": "stdout",
     "output_type": "stream",
     "text": [
      "98.73496659242763\n"
     ]
    }
   ],
   "source": [
    "log_reg = LogisticRegression(max_iter=900)\n",
    "log_reg.fit(tfidf_train, y_train)\n",
    "prediction = log_reg.predict(tfidf_test)\n",
    "cr = accuracy_score(y_test, prediction)\n",
    "print(cr*100)"
   ]
  },
  {
   "cell_type": "code",
   "execution_count": 21,
   "id": "bb12ed28",
   "metadata": {},
   "outputs": [
    {
     "data": {
      "text/plain": [
       "PassiveAggressiveClassifier(max_iter=50)"
      ]
     },
     "execution_count": 21,
     "metadata": {},
     "output_type": "execute_result"
    }
   ],
   "source": [
    "from sklearn.linear_model import PassiveAggressiveClassifier\n",
    "model = PassiveAggressiveClassifier(max_iter=50)\n",
    "model.fit(tfidf_train, y_train)"
   ]
  },
  {
   "cell_type": "code",
   "execution_count": 22,
   "id": "0516019e",
   "metadata": {},
   "outputs": [
    {
     "name": "stdout",
     "output_type": "stream",
     "text": [
      "99.54565701559021\n"
     ]
    }
   ],
   "source": [
    "y_pred = model.predict(tfidf_test)\n",
    "acc_score = accuracy_score(y_test,y_pred)\n",
    "print(acc_score*100)"
   ]
  }
 ],
 "metadata": {
  "kernelspec": {
   "display_name": "Python 3 (ipykernel)",
   "language": "python",
   "name": "python3"
  },
  "language_info": {
   "codemirror_mode": {
    "name": "ipython",
    "version": 3
   },
   "file_extension": ".py",
   "mimetype": "text/x-python",
   "name": "python",
   "nbconvert_exporter": "python",
   "pygments_lexer": "ipython3",
   "version": "3.9.7"
  }
 },
 "nbformat": 4,
 "nbformat_minor": 5
}
